{
 "cells": [
  {
   "cell_type": "code",
   "execution_count": 1,
   "id": "36590047-42a6-4bd7-a4c5-ee987b09b118",
   "metadata": {},
   "outputs": [
    {
     "name": "stdout",
     "output_type": "stream",
     "text": [
      "Collecting argparse\n",
      "  Using cached argparse-1.4.0-py2.py3-none-any.whl (23 kB)\n",
      "Installing collected packages: argparse\n",
      "Successfully installed argparse-1.4.0\n",
      "Note: you may need to restart the kernel to use updated packages.\n"
     ]
    }
   ],
   "source": [
    "pip install argparse"
   ]
  },
  {
   "cell_type": "code",
   "execution_count": 23,
   "id": "32be9abf-7989-4779-8fde-f2cd34717c84",
   "metadata": {},
   "outputs": [
    {
     "name": "stdout",
     "output_type": "stream",
     "text": [
      "Gender: Male\n",
      "Age: 16-20 years\n"
     ]
    }
   ],
   "source": [
    "import cv2\n",
    "import argparse\n",
    "import sys\n",
    "\n",
    "def highlightFace(net, frame, conf_threshold=0.7):\n",
    "    frameOpencvDnn = frame.copy()\n",
    "    frameHeight = frameOpencvDnn.shape[0]\n",
    "    frameWidth = frameOpencvDnn.shape[1]\n",
    "    blob = cv2.dnn.blobFromImage(frameOpencvDnn, 1.0, (300, 300), [104, 117, 123], True, False)\n",
    "\n",
    "    net.setInput(blob)\n",
    "    detections = net.forward()\n",
    "    faceBoxes = []\n",
    "    for i in range(detections.shape[2]):\n",
    "        confidence = detections[0, 0, i, 2]\n",
    "        if confidence > conf_threshold:\n",
    "            x1 = int(detections[0, 0, i, 3] * frameWidth)\n",
    "            y1 = int(detections[0, 0, i, 4] * frameHeight)\n",
    "            x2 = int(detections[0, 0, i, 5] * frameWidth)\n",
    "            y2 = int(detections[0, 0, i, 6] * frameHeight)\n",
    "            faceBoxes.append([x1, y1, x2, y2])\n",
    "            cv2.rectangle(frameOpencvDnn, (x1, y1), (x2, y2), (0, 255, 0), int(round(frameHeight / 150)), 8)\n",
    "            break  # Stop processing after the first detected face\n",
    "    return frameOpencvDnn, faceBoxes\n",
    "\n",
    "parser = argparse.ArgumentParser()\n",
    "parser.add_argument('--image', default='th (1).jpg')\n",
    "\n",
    "# If running in Jupyter, remove the problematic arguments\n",
    "if 'ipykernel' in sys.argv[0]:\n",
    "    args = parser.parse_args(args=[])\n",
    "else:\n",
    "    args = parser.parse_args()\n",
    "\n",
    "faceProto = \"opencv_face_detector.pbtxt\"\n",
    "faceModel = \"opencv_face_detector_uint8.pb\"\n",
    "ageProto = \"age_deploy.prototxt\"\n",
    "ageModel = \"age_net.caffemodel\"\n",
    "genderProto = \"gender_deploy.prototxt\"\n",
    "genderModel = \"gender_net.caffemodel\"\n",
    "\n",
    "MODEL_MEAN_VALUES = (78.4263377603, 87.7689143744, 114.895847746)\n",
    "ageList = [ '(1-3)','(3-5)','(11-14)','()','(16-20)','(21-24)','(25-30)', '(38-43)', '(48-53)', '(60-100)']\n",
    "genderList = ['Male', 'Female']\n",
    "\n",
    "faceNet = cv2.dnn.readNet(faceModel, faceProto)\n",
    "ageNet = cv2.dnn.readNet(ageModel, ageProto)\n",
    "genderNet = cv2.dnn.readNet(genderModel, genderProto)\n",
    "\n",
    "video = cv2.VideoCapture(args.image if args.image else 0)\n",
    "padding = 20\n",
    "face_detected = False\n",
    "\n",
    "while cv2.waitKey(1) < 0:\n",
    "    hasFrame, frame = video.read()\n",
    "    if not hasFrame:\n",
    "        cv2.waitKey()\n",
    "        break\n",
    "\n",
    "    resultImg, faceBoxes = highlightFace(faceNet, frame)\n",
    "    if faceBoxes and not face_detected:\n",
    "        face_detected = True\n",
    "        for faceBox in faceBoxes:\n",
    "            face = frame[max(0, faceBox[1] - padding):min(faceBox[3] + padding, frame.shape[0] - 1),\n",
    "                         max(0, faceBox[0] - padding):min(faceBox[2] + padding, frame.shape[1] - 1)]\n",
    "\n",
    "            blob = cv2.dnn.blobFromImage(face, 1.0, (227, 227), MODEL_MEAN_VALUES, swapRB=False)\n",
    "            genderNet.setInput(blob)\n",
    "            genderPreds = genderNet.forward()\n",
    "            gender = genderList[genderPreds[0].argmax()]\n",
    "            print(f'Gender: {gender}')\n",
    "\n",
    "            ageNet.setInput(blob)\n",
    "            agePreds = ageNet.forward()\n",
    "            age = ageList[agePreds[0].argmax()]\n",
    "            print(f'Age: {age[1:-1]} years')\n",
    "\n",
    "            cv2.putText(resultImg, f'{gender}, {age}', (faceBox[0], faceBox[1] - 10), cv2.FONT_HERSHEY_SIMPLEX, 0.8,\n",
    "                        (0, 255, 255), 2, cv2.LINE_AA)\n",
    "            cv2.imshow(\"Detecting age and gender\", resultImg)\n",
    "\n",
    "cv2.destroyAllWindows()\n"
   ]
  }
 ],
 "metadata": {
  "kernelspec": {
   "display_name": "Python 3 (ipykernel)",
   "language": "python",
   "name": "python3"
  },
  "language_info": {
   "codemirror_mode": {
    "name": "ipython",
    "version": 3
   },
   "file_extension": ".py",
   "mimetype": "text/x-python",
   "name": "python",
   "nbconvert_exporter": "python",
   "pygments_lexer": "ipython3",
   "version": "3.10.13"
  }
 },
 "nbformat": 4,
 "nbformat_minor": 5
}
